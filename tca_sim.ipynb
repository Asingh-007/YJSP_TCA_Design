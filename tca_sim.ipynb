{
 "cells": [
  {
   "cell_type": "code",
   "execution_count": 2,
   "id": "54ccd25a",
   "metadata": {},
   "outputs": [
    {
     "name": "stdout",
     "output_type": "stream",
     "text": [
      "You have 24 processors\n"
     ]
    }
   ],
   "source": [
    "#imports\n",
    "from rocketcea.cea_obj_w_units import CEA_Obj\n",
    "import numpy as np\n",
    "import matplotlib.pyplot as plt\n",
    "from ambiance import Atmosphere\n",
    "import multiprocessing\n",
    "from rocketisp.geometry import Geometry\n",
    "from rocketisp.stream_tubes import CoreStream\n",
    "from rocketisp.efficiencies import Efficiencies\n",
    "from rocketisp.nozzle.nozzle import Nozzle\n",
    "from rocketisp.geometry import solidCylVol, solidFrustrumVol\n",
    "from scipy.optimize import minimize\n",
    "from scipy.optimize import fsolve\n",
    "from scipy.interpolate import griddata\n",
    "import ipywidgets as widgets\n",
    "from IPython.display import display\n",
    "import cantera as ct\n",
    "from PIL import Image\n",
    "import csv\n",
    "\n",
    "# Check number of processors\n",
    "print(f\"You have {multiprocessing.cpu_count()} processors\")"
   ]
  },
  {
   "cell_type": "code",
   "execution_count": null,
   "id": "54637fad",
   "metadata": {},
   "outputs": [
    {
     "data": {
      "text/plain": [
       "(3.403148743618608, 3.403148743618608)"
      ]
     },
     "execution_count": 3,
     "metadata": {},
     "output_type": "execute_result"
    }
   ],
   "source": [
    "# Initialize CEA Rocket object\n",
    "rocket = CEA_Obj(oxName='LOX', fuelName='RP-1', temperature_units='degK',\n",
    " cstar_units='m/sec', specific_heat_units='kJ/kg degK',\n",
    " sonic_velocity_units='m/s', enthalpy_units='J/kg',\n",
    " density_units='kg/m^3')\n",
    "\n",
    "rocket.get_eqratio(MR=2.6)"
   ]
  },
  {
   "cell_type": "code",
   "execution_count": null,
   "id": "ee114cc7",
   "metadata": {},
   "outputs": [],
   "source": [
    "gas = ct.Solution('c12h24_combustion.yaml') # Cantera object for detailed combustion analysis\n",
    "fuel = 'C12H24:1'  # RP-1\n",
    "oxidizer = 'O2:18'  # Oxygen\n",
    "MR = 2.6  # Mixture ratio O/F\n",
    "\n",
    "gas.set_mixture_fraction(1/(1+MR), fuel, oxidizer) # Set mixture fraction. ct uses mixture fraction as fuel / (fuel + oxidizer)\n",
    "phi = gas.equivalence_ratio(fuel, oxidizer, basis='mole') # Calculate equivalence ratio\n",
    "print(f'Equivalence ratio: {phi:.2f}')"
   ]
  },
  {
   "cell_type": "code",
   "execution_count": null,
   "id": "6a525a43",
   "metadata": {},
   "outputs": [],
   "source": []
  }
 ],
 "metadata": {
  "kernelspec": {
   "display_name": "Python 3",
   "language": "python",
   "name": "python3"
  },
  "language_info": {
   "codemirror_mode": {
    "name": "ipython",
    "version": 3
   },
   "file_extension": ".py",
   "mimetype": "text/x-python",
   "name": "python",
   "nbconvert_exporter": "python",
   "pygments_lexer": "ipython3",
   "version": "3.11.9"
  }
 },
 "nbformat": 4,
 "nbformat_minor": 5
}
