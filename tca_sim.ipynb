{
 "cells": [
  {
   "cell_type": "code",
   "execution_count": 12,
   "id": "54ccd25a",
   "metadata": {},
   "outputs": [
    {
     "name": "stdout",
     "output_type": "stream",
     "text": [
      "You have 24 processors\n"
     ]
    }
   ],
   "source": [
    "#imports\n",
    "from rocketcea.cea_obj_w_units import CEA_Obj\n",
    "import numpy as np\n",
    "import matplotlib.pyplot as plt\n",
    "from ambiance import Atmosphere\n",
    "import multiprocessing\n",
    "from rocketisp.geometry import Geometry\n",
    "from rocketisp.stream_tubes import CoreStream\n",
    "from rocketisp.efficiencies import Efficiencies\n",
    "from rocketisp.nozzle.nozzle import Nozzle\n",
    "from rocketisp.geometry import solidCylVol, solidFrustrumVol\n",
    "from scipy.optimize import minimize\n",
    "from scipy.optimize import fsolve\n",
    "from scipy.interpolate import griddata\n",
    "import ipywidgets as widgets\n",
    "from IPython.display import display\n",
    "import cantera as ct\n",
    "from PIL import Image\n",
    "import csv\n",
    "\n",
    "# Check number of processors\n",
    "print(f\"You have {multiprocessing.cpu_count()} processors\")"
   ]
  },
  {
   "cell_type": "code",
   "execution_count": 95,
   "id": "54637fad",
   "metadata": {},
   "outputs": [
    {
     "data": {
      "text/plain": [
       "{'*CO': [np.float64(0.3187512058749371),\n",
       "  np.float64(0.3187512058749371),\n",
       "  np.float64(0.31343405125941476),\n",
       "  np.float64(0.25741524961437984)],\n",
       " '*CO2': [np.float64(0.1343221229432334),\n",
       "  np.float64(0.1343221229432334),\n",
       "  np.float64(0.14665268356913358),\n",
       "  np.float64(0.24930320409420118)],\n",
       " '*H': [np.float64(0.04636576183424115),\n",
       "  np.float64(0.04636576183424115),\n",
       "  np.float64(0.04145495940345892),\n",
       "  np.float64(0.0016956520952801928)],\n",
       " 'HCO': [np.float64(5.6305716368810345e-06),\n",
       "  np.float64(5.6305716368810345e-06),\n",
       "  np.float64(3.2560108915794616e-06),\n",
       "  np.float64(0.0)],\n",
       " 'HO2': [np.float64(4.60790321544504e-05),\n",
       "  np.float64(4.60790321544504e-05),\n",
       "  np.float64(3.0148083578336004e-05),\n",
       "  np.float64(0.0)],\n",
       " '*H2': [np.float64(0.08684782521639382),\n",
       "  np.float64(0.08684782521639382),\n",
       "  np.float64(0.08494349384531287),\n",
       "  np.float64(0.09739285410455127)],\n",
       " 'H2O': [np.float64(0.29435418526846896),\n",
       "  np.float64(0.29435418526846896),\n",
       "  np.float64(0.30979319124616683),\n",
       "  np.float64(0.39354477757904605)],\n",
       " '*O': [np.float64(0.020795126581961153),\n",
       "  np.float64(0.020795126581961153),\n",
       "  np.float64(0.016915799142895382),\n",
       "  np.float64(7.206540475135289e-06)],\n",
       " '*OH': [np.float64(0.07118983962263682),\n",
       "  np.float64(0.07118983962263682),\n",
       "  np.float64(0.06266855757270903),\n",
       "  np.float64(0.0006283372348753178)],\n",
       " '*O2': [np.float64(0.027314851924486103),\n",
       "  np.float64(0.027314851924486103),\n",
       "  np.float64(0.024099292465572617),\n",
       "  np.float64(1.2718737190824224e-05)]}"
      ]
     },
     "execution_count": 95,
     "metadata": {},
     "output_type": "execute_result"
    }
   ],
   "source": [
    "# Initialize CEA Rocket object\n",
    "rocket = CEA_Obj(oxName='LOX', fuelName='RP-1', temperature_units='degK',\n",
    " cstar_units='m/sec', specific_heat_units='kJ/kg degK',\n",
    " sonic_velocity_units='m/s', enthalpy_units='J/kg',\n",
    " density_units='kg/m^3')\n",
    "\n",
    "rocket.get_eqratio(MR=2.6)\n",
    "[MW, MF] = rocket.get_SpeciesMoleFractions(MR=2.6, frozen=1)\n",
    "MF"
   ]
  },
  {
   "cell_type": "code",
   "execution_count": null,
   "id": "ee114cc7",
   "metadata": {},
   "outputs": [
    {
     "name": "stdout",
     "output_type": "stream",
     "text": [
      "Equivalence ratio: 1.32\n"
     ]
    },
    {
     "name": "stderr",
     "output_type": "stream",
     "text": [
      "C:\\Users\\asing\\AppData\\Local\\Temp\\ipykernel_23084\\4205598503.py:1: UserWarning: NasaPoly2::validate: \n",
      "For species C12H24, discontinuity in h/RT detected at Tmid = 1000\n",
      "\tValue computed using low-temperature polynomial:  -0.5566423500000255\n",
      "\tValue computed using high-temperature polynomial: -3.5114989489268\n",
      "\n",
      "  gas = ct.Solution('c12H24_com.yaml') # Cantera object for detailed combustion analysis\n",
      "C:\\Users\\asing\\AppData\\Local\\Temp\\ipykernel_23084\\4205598503.py:1: UserWarning: NasaPoly2::validate: \n",
      "For species C12H24, discontinuity in s/R detected at Tmid = 1000\n",
      "\tValue computed using low-temperature polynomial:  95.44412384656303\n",
      "\tValue computed using high-temperature polynomial: 88.67560292843137\n",
      "\n",
      "  gas = ct.Solution('c12H24_com.yaml') # Cantera object for detailed combustion analysis\n"
     ]
    }
   ],
   "source": [
    "gas = ct.Solution('c12H24_cmb_mech.yaml') # Cantera object for detailed combustion analysis\n",
    "fuel = 'C12H24:1'  # RP-1\n",
    "oxidizer = 'O2:14'  # Oxygen\n",
    "MR = 2.6 # Mixture ratio O/F\n",
    "\n",
    "gas.set_mixture_fraction(1/(1+MR), fuel, oxidizer) # Set mixture fraction. ct uses mixture fraction as fuel / (fuel + oxidizer)\n",
    "phi = gas.equivalence_ratio(fuel, oxidizer, basis='mole') # Calculate equivalence ratio\n",
    "print(f'Equivalence ratio: {phi:.2f}')"
   ]
  },
  {
   "cell_type": "code",
   "execution_count": 97,
   "id": "6a525a43",
   "metadata": {},
   "outputs": [
    {
     "name": "stdout",
     "output_type": "stream",
     "text": [
      "Mole fractions: CO2 = 13.976%, CO = 36.024%, H2O = 50.000%\n"
     ]
    }
   ],
   "source": [
    "# Function to define the mole fraction equations\n",
    "# X: array of mole fractions (X_C02, X_CO, X_H20)\n",
    "# phi: equivalence ratio\n",
    "def mole_fraction_equations(X):\n",
    "    equation_1 =  X[0] + X[1] + X[2] - 1  # Sum of mole fractions equals 1\n",
    "    equation_2 = X[2] - X[0] - X[1]  # Ratio of Carbon to Hydrogen\n",
    "    equation_3 = 4/3 * phi * X[0] + 2/3 * phi * X[1] + 2/3 * phi * X[2] - 2 * X[2]  # Ratio of Hydrogen to Oxygen\n",
    "    return [equation_1, equation_2, equation_3]\n",
    "\n",
    "X0 = [1, 1, 1]  # Initial guess for mole fractions\n",
    "X_solution = fsolve(mole_fraction_equations, X0)\n",
    "print(f'Mole fractions: CO2 = {X_solution[0] * 100:.3f}%, CO = {X_solution[1]*100:.3f}%, H2O = {X_solution[2]*100:.3f}%')"
   ]
  },
  {
   "cell_type": "code",
   "execution_count": null,
   "id": "0b529651",
   "metadata": {},
   "outputs": [
    {
     "name": "stdout",
     "output_type": "stream",
     "text": [
      "\n",
      "  gas:\n",
      "\n",
      "       temperature   3955.3 K\n",
      "          pressure   3.5163e+07 Pa\n",
      "           density   25.273 kg/m^3\n",
      "  mean mol. weight   23.637 kg/kmol\n",
      "   phase of matter   gas\n",
      "\n",
      "                          1 kg             1 kmol     \n",
      "                     ---------------   ---------------\n",
      "          enthalpy       -4.8225e+05       -1.1399e+07  J\n",
      "   internal energy       -1.8736e+06       -4.4285e+07  J\n",
      "           entropy             10827        2.5591e+05  J/K\n",
      "    Gibbs function       -4.3305e+07       -1.0236e+09  J\n",
      " heat capacity c_p            2063.8             48782  J/K\n",
      " heat capacity c_v              1712             40467  J/K\n",
      "\n",
      "                      mass frac. Y      mole frac. X     chem. pot. / RT\n",
      "                     ---------------   ---------------   ---------------\n",
      "                H2         0.0068015          0.079745           -18.543\n",
      "                 H        0.00095306          0.022349           -9.2716\n",
      "                 O         0.0059632           0.00881           -14.895\n",
      "                O2          0.019627          0.014498           -29.791\n",
      "                OH          0.042181          0.058625           -24.167\n",
      "               H2O           0.26498           0.34768           -33.438\n",
      "               HO2        0.00024123        0.00017276           -39.062\n",
      "              H2O2        5.8692e-05        4.0786e-05           -48.334\n",
      "                 C        4.9033e-09        9.6494e-09           -13.997\n",
      "                CH        3.8246e-09        6.9439e-09           -23.269\n",
      "               CH2        6.5988e-09         1.112e-08           -32.541\n",
      "            CH2(S)        9.5711e-10        1.6128e-09           -32.541\n",
      "               CH3        1.2476e-08        1.9613e-08           -41.812\n",
      "               CH4        3.9496e-09        5.8192e-09           -51.084\n",
      "                CO           0.37162            0.3136           -28.893\n",
      "               CO2           0.28746           0.15439           -43.788\n",
      "               HCO        0.00010891         8.871e-05           -38.164\n",
      "              CH2O        4.7491e-06        3.7385e-06           -47.436\n",
      "             CH2OH        1.2471e-08        9.4985e-09           -56.708\n",
      "              CH3O        1.9043e-09        1.4504e-09           -56.708\n",
      "             CH3OH        1.1272e-09         8.315e-10           -65.979\n",
      "               C2H         2.623e-11         2.477e-11           -37.267\n",
      "              C2H2        2.0639e-10        1.8736e-10           -46.538\n",
      "              C2H3        6.2496e-13        5.4619e-13            -55.81\n",
      "              C2H4        1.7832e-13        1.5024e-13           -65.081\n",
      "              HCCO        1.8209e-09         1.049e-09           -52.162\n",
      "             CH2CO        1.1454e-09        6.4407e-10           -61.433\n",
      "             HCCOH        2.7767e-11        1.5613e-11           -61.433\n",
      "     [  +22 minor]        8.5608e-16        6.9498e-16  \n",
      "\n"
     ]
    },
    {
     "name": "stderr",
     "output_type": "stream",
     "text": [
      "C:\\Users\\asing\\AppData\\Local\\Temp\\ipykernel_23084\\4080360346.py:4: UserWarning: NasaPoly2::validate: \n",
      "For species C12H24, discontinuity in h/RT detected at Tmid = 1000\n",
      "\tValue computed using low-temperature polynomial:  -0.5566423500000255\n",
      "\tValue computed using high-temperature polynomial: -3.5114989489268\n",
      "\n",
      "  reactants = ct.ThermoPhase('c12H24_com.yaml')\n",
      "C:\\Users\\asing\\AppData\\Local\\Temp\\ipykernel_23084\\4080360346.py:4: UserWarning: NasaPoly2::validate: \n",
      "For species C12H24, discontinuity in s/R detected at Tmid = 1000\n",
      "\tValue computed using low-temperature polynomial:  95.44412384656303\n",
      "\tValue computed using high-temperature polynomial: 88.67560292843137\n",
      "\n",
      "  reactants = ct.ThermoPhase('c12H24_com.yaml')\n"
     ]
    }
   ],
   "source": [
    "T_O2 = 90 # K\n",
    "T_C12H24 = 110 # K\n",
    "P = 5100 * 6894.76 # psia --> Pa\n",
    "reactants = ct.ThermoPhase('c12H24_cmb_mech.yaml')\n",
    "O2 = ct.Quantity(reactants, constant='HP')\n",
    "O2.TPX = T_O2, P, 'O2:1'\n",
    "O2.moles = 18\n",
    "C12H24 = ct.Quantity(reactants, constant='HP') # Set Enthalpy Constant\n",
    "C12H24.TPX = T_C12H24, P, 'C12H24:1'\n",
    "C12H24.moles = phi \n",
    "products = O2 + C12H24\n",
    "products.equilibrate('HP', solver='gibbs')\n",
    "print(products.report())\n"
   ]
  }
 ],
 "metadata": {
  "kernelspec": {
   "display_name": "Python 3",
   "language": "python",
   "name": "python3"
  },
  "language_info": {
   "codemirror_mode": {
    "name": "ipython",
    "version": 3
   },
   "file_extension": ".py",
   "mimetype": "text/x-python",
   "name": "python",
   "nbconvert_exporter": "python",
   "pygments_lexer": "ipython3",
   "version": "3.11.9"
  }
 },
 "nbformat": 4,
 "nbformat_minor": 5
}
