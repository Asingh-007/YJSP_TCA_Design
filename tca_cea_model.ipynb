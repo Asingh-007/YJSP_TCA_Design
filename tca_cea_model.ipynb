{
 "cells": [
  {
   "cell_type": "code",
   "execution_count": 89,
   "id": "54ccd25a",
   "metadata": {},
   "outputs": [],
   "source": [
    "#imports\n",
    "import warnings\n",
    "import CoolProp.CoolProp as CP\n",
    "from rocketcea.cea_obj_w_units import CEA_Obj\n",
    "from scipy.optimize import fsolve\n",
    "import cantera as ct\n",
    "import numpy as np\n",
    "\n",
    "warnings.filterwarnings(\"ignore\")"
   ]
  },
  {
   "cell_type": "code",
   "execution_count": 90,
   "id": "54637fad",
   "metadata": {},
   "outputs": [
    {
     "name": "stdout",
     "output_type": "stream",
     "text": [
      "*CO: 31.831%\n",
      "H2O: 30.879%\n",
      "*CO2: 14.122%\n",
      "*H2: 8.401%\n",
      "*OH: 6.891%\n",
      "*H: 3.797%\n",
      "*O2: 2.383%\n",
      "*O: 1.686%\n",
      "HO2: 0.007%\n",
      "HCO: 0.001%\n",
      "COOH: 0.001%\n",
      "H2O2: 0.001%\n",
      "Eqivalence Ratio: 1.31\n",
      "Adiabatic Flame Temperature: 3503.23 K\n",
      "Chamber Molecular Weight: 23.45 g/mol\n",
      "Chamber Specific Heat Ratio: 1.271\n",
      "Specific Impulse: 331.58 s\n",
      "Exit Temperature: 1104.59 K\n",
      "Exit Mach Number: 4.431\n",
      "Exhaust Velocity: 3126.41 m/s\n"
     ]
    }
   ],
   "source": [
    "p_exit = 10\n",
    "P_c = 300\n",
    "\n",
    "# Initialize CEA Rocket object\n",
    "rocket = CEA_Obj(oxName='LOX', fuelName='RP-1', temperature_units='degK',\n",
    " cstar_units='m/sec', specific_heat_units='kJ/kg degK',\n",
    " sonic_velocity_units='m/s', enthalpy_units='J/kg',\n",
    " density_units='kg/m^3')\n",
    "\n",
    "\n",
    "[_, Mf] = rocket.get_SpeciesMoleFractions(MR=2.6, Pc=P_c,frozen=1, frozenAtThroat=1)\n",
    "temps = rocket.get_Temperatures(MR=2.6, frozen=1, frozenAtThroat=1, Pc=P_c)\n",
    "velocities = rocket.get_SonicVelocities(MR=2.6, Pc=P_c, frozen=1, frozenAtThroat=1)\n",
    "Mf = sorted(Mf.items(), key=lambda item: item[1], reverse=True)\n",
    "Me = rocket.get_MachNumber(MR=2.6, Pc=P_c, frozen=1, frozenAtThroat=1)\n",
    "for i in range(len(Mf)):\n",
    "        print(f'{Mf[i][0]}: {Mf[i][1][1]*100:.3f}%')\n",
    "[MW, gamma] = rocket.get_exit_MolWt_gamma(MR=2.6, frozen=1, frozenAtThroat=1, Pc=P_c)\n",
    "print(f'Eqivalence Ratio: {rocket.get_eqratio(MR=2.6, Pc=P_c)[0]:.2f}')\n",
    "print(f'Adiabatic Flame Temperature: {temps[0]:.2f} K')\n",
    "print(f'Chamber Molecular Weight: {MW:.2f} g/mol')\n",
    "print(f'Chamber Specific Heat Ratio: {gamma:.3f}')\n",
    "print(f'Specific Impulse: {rocket.get_Isp(MR=2.6, Pc=P_c, frozen=1, frozenAtThroat=1):.2f} s')\n",
    "print(f'Exit Temperature: {temps[2]:.2f} K')\n",
    "print(f'Exit Mach Number: {Me:.3f}')\n",
    "print(f'Exhaust Velocity: {velocities[2] * Me:.2f} m/s')\n",
    "\n"
   ]
  },
  {
   "cell_type": "code",
   "execution_count": null,
   "id": "ee114cc7",
   "metadata": {},
   "outputs": [
    {
     "name": "stdout",
     "output_type": "stream",
     "text": [
      "Equivalence ratio: 1.44\n"
     ]
    }
   ],
   "source": [
    "gas = ct.Solution('c12H24_cmb_mech.yaml') # Cantera object for detailed combustion analysis\n",
    "fuel = 'C12H24:1'  # RP-1\n",
    "oxidizer = 'O2:1'  # Oxygen\n",
    "MR = 2.6 # Mixture ratio O/F\n",
    "\n",
    "gas.set_mixture_fraction(1/(1+MR), fuel, oxidizer) # Set mixture fraction. ct uses mixture fraction as fuel / (fuel + oxidizer)\n",
    "phi = gas.equivalence_ratio(fuel, oxidizer, basis='mole') # Calculate equivalence ratio\n",
    "print(f'Equivalence ratio: {phi:.2f}')"
   ]
  },
  {
   "cell_type": "code",
   "execution_count": 92,
   "id": "6a525a43",
   "metadata": {},
   "outputs": [
    {
     "name": "stdout",
     "output_type": "stream",
     "text": [
      "Mole fractions: CO2 = 13.976%, CO = 36.024%, H2O = 50.000%\n"
     ]
    }
   ],
   "source": [
    "# Function to define the mole fraction equations\n",
    "# X: array of mole fractions (X_C02, X_CO, X_H20)\n",
    "# phi: equivalence ratio\n",
    "def mole_fraction_equations(X):\n",
    "    equation_1 =  X[0] + X[1] + X[2] - 1  # Sum of mole fractions equals 1\n",
    "    equation_2 = X[2] - X[0] - X[1]  # Ratio of Carbon to Hydrogen\n",
    "    equation_3 = 4/3 * phi * X[0] + 2/3 * phi * X[1] + 2/3 * phi * X[2] - 2 * X[2]  # Ratio of Hydrogen to Oxygen\n",
    "    return [equation_1, equation_2, equation_3]\n",
    "\n",
    "X0 = [1, 1, 1]  # Initial guess for mole fractions\n",
    "X_solution = fsolve(mole_fraction_equations, X0)\n",
    "print(f'Mole fractions: CO2 = {X_solution[0] * 100:.3f}%, CO = {X_solution[1]*100:.3f}%, H2O = {X_solution[2]*100:.3f}%')\n"
   ]
  },
  {
   "cell_type": "code",
   "execution_count": 98,
   "id": "1f8970e1",
   "metadata": {},
   "outputs": [
    {
     "name": "stdout",
     "output_type": "stream",
     "text": [
      "Adiabatic Flame Temperature: 3071.87 K\n"
     ]
    }
   ],
   "source": [
    "R = 8.314  # J/(mol·K)\n",
    "T_ref = 298.15  # Reference temperature in K\n",
    "\n",
    "H_f = [-8.94e6, -3.95e6, -1.3e7]  # Standard enthalpies of formation at 298 K in J/mol for CO2, CO, H2O\n",
    "\n",
    "def H_total(T):\n",
    "    T_grid = np.linspace(T_ref, T, 100).flatten()\n",
    "    dT = (T - T_ref)/100\n",
    "    H = 0.0\n",
    "    for i, species in enumerate(['CO2', 'CO', 'H2O']):\n",
    "        cp_values = np.array([gas.species(species).thermo.cp(t)* R for t in T_grid]) # Get cp values in J/(mol·K) \n",
    "        cp_interp = np.interp(T, T_grid, cp_values)\n",
    "        H_species = np.sum(cp_interp * dT)  # Integrate cp over temperature\n",
    "        H += X_solution[i] * (H_species + H_f[i])  # Total enthalpy\n",
    "    return H\n",
    "\n",
    "def energy_balance(T):\n",
    "    return H_total(T) - (gas.species('C12H24').thermo.cp(T)* R + -1.45e5)  # Enthalpy of fuel at T minus enthalpy of reactants\n",
    "\n",
    "T_initial_guess = 2500  # Initial guess for adiabatic flame temperature in K\n",
    "T_ad_flame = fsolve(energy_balance, T_initial_guess)[0]\n",
    "print(f'Adiabatic Flame Temperature: {T_ad_flame:.2f} K')\n",
    "   "
   ]
  },
  {
   "cell_type": "code",
   "execution_count": 94,
   "id": "0b529651",
   "metadata": {},
   "outputs": [
    {
     "name": "stdout",
     "output_type": "stream",
     "text": [
      "\n",
      "  gas:\n",
      "\n",
      "       temperature   3541.6 K\n",
      "          pressure   2.0684e+06 Pa\n",
      "           density   1.5928 kg/m^3\n",
      "  mean mol. weight   22.676 kg/kmol\n",
      "   phase of matter   gas\n",
      "\n",
      "                          1 kg             1 kmol     \n",
      "                     ---------------   ---------------\n",
      "          enthalpy       -4.1048e+05        -9.308e+06  J\n",
      "   internal energy        -1.709e+06       -3.8755e+07  J\n",
      "           entropy             11863        2.6902e+05  J/K\n",
      "    Gibbs function       -4.2426e+07       -9.6206e+08  J\n",
      " heat capacity c_p            2037.7             46207  J/K\n",
      " heat capacity c_v              1671             37892  J/K\n",
      "\n",
      "                      mass frac. Y      mole frac. X     chem. pot. / RT\n",
      "                     ---------------   ---------------   ---------------\n",
      "                H2         0.0079007          0.088868           -20.853\n",
      "                 H         0.0019024          0.042796           -10.427\n",
      "                 O          0.013507          0.019144           -15.811\n",
      "                O2          0.035334           0.02504           -31.622\n",
      "                OH          0.054409          0.072546           -26.237\n",
      "               H2O           0.24029           0.30247           -36.664\n",
      "               HO2        0.00010694        7.3472e-05           -42.048\n",
      "              H2O2         1.132e-05        7.5468e-06           -52.475\n",
      "                 C        8.1623e-10         1.541e-09            -15.86\n",
      "                CH        2.5173e-10        4.3845e-10           -26.287\n",
      "               CH2         2.418e-10        3.9089e-10           -36.714\n",
      "            CH2(S)        3.0751e-11        4.9712e-11           -36.714\n",
      "               CH3        2.7438e-10        4.1382e-10            -47.14\n",
      "               CH4        4.4883e-11         6.344e-11           -57.567\n",
      "                CO           0.39386           0.31886           -31.671\n",
      "               CO2           0.25265           0.13018           -47.482\n",
      "               HCO        1.7148e-05        1.3401e-05           -42.098\n",
      "              CH2O        3.2249e-07        2.4355e-07           -52.524\n",
      "             CH2OH        1.5901e-10        1.1619e-10           -62.951\n",
      "              CH3O        1.9661e-11        1.4366e-11           -62.951\n",
      "             CH3OH        6.9024e-12        4.8848e-12           -73.378\n",
      "               C2H        2.3001e-13        2.0838e-13           -42.147\n",
      "              C2H2        1.5155e-12        1.3199e-12           -52.574\n",
      "              HCCO        2.0899e-11         1.155e-11           -57.958\n",
      "             CH2CO        7.3038e-12        3.9399e-12           -68.385\n",
      "             HCCOH        1.0815e-13         5.834e-14           -68.385\n",
      "     [  +28 minor]        1.1105e-15        9.2618e-16  \n",
      "\n"
     ]
    }
   ],
   "source": [
    "T_O2 = 90.170  # Assumed temperature of lox in K\n",
    "T_C12H24 = 298.15 # Assumed temperature of RP-1 in K\n",
    "reactants = ct.ThermoPhase('c12H24_cmb_mech.yaml')\n",
    "O2 = ct.Quantity(reactants, constant='HP')\n",
    "O2.TPX = T_O2, P_c * 6894.76, 'O2:1'\n",
    "O2.moles = 18\n",
    "C12H24 = ct.Quantity(reactants, constant='HP') # Set Enthalpy Constant\n",
    "C12H24.TPX = T_C12H24, P_c * 6894.76, 'C12H24:1'\n",
    "C12H24.moles = phi \n",
    "products = O2 + C12H24\n",
    "products.equilibrate('HP', solver='gibbs')\n",
    "print(products.report())"
   ]
  },
  {
   "cell_type": "code",
   "execution_count": 95,
   "id": "29812cb4",
   "metadata": {},
   "outputs": [
    {
     "name": "stdout",
     "output_type": "stream",
     "text": [
      " CO: 31.886%\n",
      " H2O: 30.247%\n",
      " CO2: 13.018%\n",
      " H2: 8.887%\n",
      " OH: 7.255%\n",
      " H: 4.280%\n",
      " O2: 2.504%\n",
      " O: 1.914%\n"
     ]
    }
   ],
   "source": [
    "sorted_mfs = sorted(products.mole_fraction_dict().items(), key=lambda x: x[1], reverse=True)\n",
    "sorted_mfs = {sorted_mfs[i][0]: float(sorted_mfs[i][1]) for i in range(len(sorted_mfs)) if sorted_mfs[i][1] > 1e-3}\n",
    "for sp, x in sorted_mfs.items():\n",
    "    print(f\" {sp}: {x*100:.3f}%\")\n",
    "\n",
    "cantera_to_coolprop = {\n",
    "    \"O2\": \"Oxygen\",\n",
    "    \"CO2\": \"CarbonDioxide\",\n",
    "    \"H2O\": \"Water\",\n",
    "    \"CO\": \"CarbonMonoxide\",\n",
    "    \"H2\": \"Hydrogen\",\n",
    "}\n",
    "\n",
    "mapped_species = {}\n",
    "for sp, x in sorted_mfs.items():\n",
    "    if sp in cantera_to_coolprop:\n",
    "        mapped_species[cantera_to_coolprop[sp]] = x\n",
    "\n",
    "total = sum(mapped_species.values())\n",
    "mapped_species = {k: v/total for k, v in mapped_species.items()}\n",
    "\n",
    "cp_components = [f\"{sp}[{x}]\" for sp, x in mapped_species.items()]\n",
    "mixture = \"HEOS::\" + \"&\".join(cp_components)\n",
    "\n",
    "cp_mass = CP.PropsSI(\"Cpmass\", \"T\", gas.T, \"P\", gas.P, mixture)\n",
    "cv_mass = CP.PropsSI(\"Cvmass\", \"T\", gas.T, \"P\", gas.P, mixture)\n",
    "\n"
   ]
  },
  {
   "cell_type": "code",
   "execution_count": 96,
   "id": "26339192",
   "metadata": {},
   "outputs": [
    {
     "name": "stdout",
     "output_type": "stream",
     "text": [
      "Adiabatic Flame Temperature: 3541.62 K\n",
      "Chamber Molecular Weight: 22.68 g/mol\n",
      "Chamber Specific Heat Ratio: 1.362\n",
      "Exit Mach Number: 2.849\n",
      "Exit Temperature: 1434.86 K\n",
      "Exhaust Velocity: 2363.87 m/s\n",
      "Specific Impulse: 240.96 s\n"
     ]
    }
   ],
   "source": [
    "P_c = P_c * 6894.76 # Chamber Pressure in Pa\n",
    "p_exit = p_exit * 6894.76 # Exit Pressure in Pa\n",
    "specific_heat_ratio =  cp_mass / cv_mass\n",
    "exit_mach = ((2/(specific_heat_ratio - 1)) * ((P_c/p_exit)**((specific_heat_ratio- 1)/specific_heat_ratio) - 1))**0.5\n",
    "exit_T = products.T * (1 + (specific_heat_ratio - 1)/2 * exit_mach**2)**-1\n",
    "exhuast_velocity = (2 * cp_mass *(products.T - exit_T))**0.5\n",
    "I_sp = exhuast_velocity / 9.81\n",
    "print(f'Adiabatic Flame Temperature: {products.T:.2f} K')\n",
    "print(f'Chamber Molecular Weight: {products.mean_molecular_weight:.2f} g/mol')\n",
    "print(f'Chamber Specific Heat Ratio: {specific_heat_ratio:.3f}')\n",
    "print(f'Exit Mach Number: {exit_mach:.3f}')\n",
    "print(f'Exit Temperature: {exit_T:.2f} K')\n",
    "print(f'Exhaust Velocity: {exhuast_velocity:.2f} m/s')\n",
    "print(f'Specific Impulse: {I_sp:.2f} s')\n",
    "\n"
   ]
  }
 ],
 "metadata": {
  "kernelspec": {
   "display_name": "Python 3",
   "language": "python",
   "name": "python3"
  },
  "language_info": {
   "codemirror_mode": {
    "name": "ipython",
    "version": 3
   },
   "file_extension": ".py",
   "mimetype": "text/x-python",
   "name": "python",
   "nbconvert_exporter": "python",
   "pygments_lexer": "ipython3",
   "version": "3.11.9"
  }
 },
 "nbformat": 4,
 "nbformat_minor": 5
}
